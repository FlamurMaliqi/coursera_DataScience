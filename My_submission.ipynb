{
 "cells": [
  {
   "cell_type": "markdown",
   "id": "af03530a",
   "metadata": {},
   "source": [
    "# My Data Science Journey"
   ]
  },
  {
   "cell_type": "markdown",
   "id": "f33f1d99",
   "metadata": {},
   "source": [
    "## Introduction\n",
    "\n",
    "Welcome to my data science journey! In this notebook, I will explore various data science tools, languages, and libraries, and demonstrate some basic arithmetic operations commonly used in data analysis.\n"
   ]
  },
  {
   "cell_type": "markdown",
   "id": "07c715eb",
   "metadata": {},
   "source": [
    "## Data Science Languages\n",
    "\n",
    "1. Python\n",
    "2. R\n",
    "3. SQL"
   ]
  },
  {
   "cell_type": "markdown",
   "id": "4de407e6",
   "metadata": {},
   "source": [
    "## Data Science Libraries\n",
    "\n",
    "- NumPy\n",
    "- Pandas\n",
    "- Matplotlib\n",
    "- Seaborn\n",
    "- Scikit-learn"
   ]
  },
  {
   "cell_type": "markdown",
   "id": "dd4d9289",
   "metadata": {},
   "source": [
    "## Data Science Tools\n",
    "\n",
    "| Tool            | Description                          |\n",
    "|-----------------|--------------------------------------|\n",
    "| Jupyter Notebook| Interactive computing environment    |\n",
    "| VS Code         | Integrated development environment   |\n",
    "| Git             | Version control system               |\n"
   ]
  },
  {
   "cell_type": "markdown",
   "id": "3cdf6f1c",
   "metadata": {},
   "source": [
    "## Arithmetic Expression Examples\n",
    "\n",
    "Let's explore some basic arithmetic operations using Python."
   ]
  },
  {
   "cell_type": "code",
   "execution_count": 4,
   "id": "7cfcc5f6",
   "metadata": {},
   "outputs": [
    {
     "name": "stdout",
     "output_type": "stream",
     "text": [
      "Multiplication result: 50\n",
      "Addition result: 50\n"
     ]
    }
   ],
   "source": [
    "# Multiplication\n",
    "result_mul = 5 * 10\n",
    "print(\"Multiplication result:\", result_mul)\n",
    "\n",
    "# Addition\n",
    "result_add = 20 + 30\n",
    "print(\"Addition result:\", result_add)\n"
   ]
  },
  {
   "cell_type": "code",
   "execution_count": 5,
   "id": "3401696f",
   "metadata": {},
   "outputs": [
    {
     "name": "stdout",
     "output_type": "stream",
     "text": [
      "150 minutes is equal to 2.5 hours.\n"
     ]
    }
   ],
   "source": [
    "# Convert minutes to hours\n",
    "minutes = 150\n",
    "hours = minutes / 60\n",
    "print(\"150 minutes is equal to\", hours, \"hours.\")\n"
   ]
  },
  {
   "cell_type": "markdown",
   "id": "690b24b3",
   "metadata": {},
   "source": [
    "## Objectives\n",
    "\n",
    "- Explore various data science tools, languages, and libraries.\n",
    "- Perform basic arithmetic operations using Python.\n",
    "- Convert minutes to hours.\n"
   ]
  },
  {
   "cell_type": "markdown",
   "id": "d7e2b121",
   "metadata": {},
   "source": [
    "## Author\n",
    "\n",
    "- Flamur Maliqi"
   ]
  }
 ],
 "metadata": {
  "kernelspec": {
   "display_name": "Python 3 (ipykernel)",
   "language": "python",
   "name": "python3"
  },
  "language_info": {
   "codemirror_mode": {
    "name": "ipython",
    "version": 3
   },
   "file_extension": ".py",
   "mimetype": "text/x-python",
   "name": "python",
   "nbconvert_exporter": "python",
   "pygments_lexer": "ipython3",
   "version": "3.9.13"
  }
 },
 "nbformat": 4,
 "nbformat_minor": 5
}
